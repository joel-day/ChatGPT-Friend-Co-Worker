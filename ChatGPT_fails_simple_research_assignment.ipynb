{
  "cells": [
    {
      "cell_type": "markdown",
      "metadata": {
        "id": "PH1cy-zfUMTz"
      },
      "source": [
        "# I stumbled into this small project by accident. I spent hours manually googling the ages of political candidate for an election forecasting model, and only months after its completion did i come up with the idea to use the ChatGPT API to collect this data for me. I tried it out. Here is how it did.\n",
        "\n",
        "\n",
        "# i attempted to make ChatGPT my coworker, but for now ill keep it in the friend zone. "
      ]
    },
    {
      "cell_type": "code",
      "execution_count": 60,
      "metadata": {
        "colab": {
          "base_uri": "https://localhost:8080/"
        },
        "id": "NAA7CZJVXTHL",
        "outputId": "77b62f71-5093-4db0-c06b-1c787d6d72a8"
      },
      "outputs": [],
      "source": [
        "import pandas as pd\n",
        "import openai\n",
        "from openai import OpenAI\n",
        "import re\n",
        "from datetime import datetime\n",
        "from sklearn.model_selection import train_test_split\n",
        "from sklearn.linear_model import LogisticRegression\n",
        "from sklearn.metrics import accuracy_score\n",
        "import warnings\n",
        "import seaborn as sns\n",
        "import matplotlib.pyplot as plt\n",
        "import os\n",
        "\n",
        "# Suppress all warnings\n",
        "warnings.filterwarnings(\"ignore\")\n",
        "\n",
        "import plotly.express as px"
      ]
    },
    {
      "cell_type": "markdown",
      "metadata": {
        "id": "12yblfhSXLhc"
      },
      "source": [
        "# Import senate data"
      ]
    },
    {
      "cell_type": "code",
      "execution_count": 61,
      "metadata": {
        "colab": {
          "base_uri": "https://localhost:8080/",
          "height": 363
        },
        "id": "eiPNRatbXLnc",
        "outputId": "a61e82f1-efda-4d21-fd2e-61ffb233ab23"
      },
      "outputs": [],
      "source": [
        "senate_results = pd.read_excel('senate_ChatGPT.xlsx')\n",
        "senate_results['gpt_age'] = None"
      ]
    },
    {
      "cell_type": "code",
      "execution_count": 62,
      "metadata": {
        "id": "yjQSgyfoU6zH"
      },
      "outputs": [],
      "source": [
        "gpt_api_key = os.getenv('GPT_API_KEY')\n",
        "client = OpenAI(\n",
        "    api_key = gpt_api_key,\n",
        ")"
      ]
    },
    {
      "cell_type": "code",
      "execution_count": 63,
      "metadata": {
        "id": "ynUNtPEPWKDr"
      },
      "outputs": [],
      "source": [
        "for index, row in senate_results.iterrows():\n",
        "    # Extract contents from columns\n",
        "    year = row['year']\n",
        "    state = row['state']\n",
        "    first_name = row['first_name']\n",
        "    last_name = row['last_name']\n",
        "    party = row['party']\n",
        "\n",
        "    prompt = (f'Provide only the age of {first_name} {last_name}. They were a candidate in the {year} {state} federal senate election')\n",
        "\n",
        "    response = client.chat.completions.create(\n",
        "        model=\"gpt-3.5-turbo\",\n",
        "        messages=[\n",
        "          {\"role\": \"system\", \"content\": \"You are a numbers minded assistant\"},\n",
        "          {\"role\": \"user\", \"content\": prompt},\n",
        "        ]\n",
        "      )\n",
        "\n",
        "    # here is the raw gpt response, it is very inconsistant so i need to extract only the age\n",
        "    age = response.choices[0].message.content\n",
        "\n",
        "\n",
        "    # which is done by finding the first occurrence of two consecutive digits\n",
        "    match = re.search(r'\\d\\d', age)\n",
        "    if match:\n",
        "        result = match.group()\n",
        "        result = int(result)\n",
        "    else:\n",
        "        result = 0\n",
        "\n",
        "\n",
        "    correction = 2021 - row['year']\n",
        "    result = result - correction\n",
        "\n",
        "    senate_results.at[index, 'gpt_age'] = result"
      ]
    },
    {
      "cell_type": "markdown",
      "metadata": {
        "id": "mwSk3FoPuTvJ"
      },
      "source": [
        "## I made the code work but the responses were untrustworthy. I got a lot of unsure responses and confident false positives."
      ]
    },
    {
      "cell_type": "markdown",
      "metadata": {
        "id": "gBRaDrr_WUKL"
      },
      "source": [
        "## adjust the age column so that it relects the candidate's age on election year"
      ]
    },
    {
      "cell_type": "code",
      "execution_count": 64,
      "metadata": {
        "id": "oE9N5LmgWKGT"
      },
      "outputs": [],
      "source": [
        "# change gpt response type to an integer\n",
        "senate_results['gpt_age'] = senate_results['gpt_age'].fillna(0).astype(int)\n",
        "\n",
        "# because GPT gave the current age, i found the current year, then subtracted how many years ago the election was from the provided age.\n",
        "# the knowledge cutoff for GPT-3.5 is 9/2021\n",
        "senate_results['year_difference'] = 2001 - senate_results['year']\n",
        "senate_results['gpt_age'] = senate_results['gpt_age'] - senate_results['year_difference']\n",
        "\n",
        "# drop the 'year_difference' column\n",
        "senate_results.drop(columns=['year_difference'], inplace=True)"
      ]
    },
    {
      "cell_type": "markdown",
      "metadata": {
        "id": "F1buuWE9rcJA"
      },
      "source": [
        "# Now lets investigate how accurate chat GPT is"
      ]
    },
    {
      "cell_type": "code",
      "execution_count": 65,
      "metadata": {
        "id": "gGpP2J0uyywp"
      },
      "outputs": [],
      "source": [
        "senate_results = senate_results[senate_results['gpt_age'] > 19]\n",
        "senate_results['age_difference'] = (senate_results['gpt_age'] - senate_results['age']).abs()"
      ]
    },
    {
      "cell_type": "code",
      "execution_count": 66,
      "metadata": {
        "colab": {
          "base_uri": "https://localhost:8080/",
          "height": 424
        },
        "id": "nQ3J-ptovN5X",
        "outputId": "0f8cd22d-ad54-41dd-a3a3-a73522e67950"
      },
      "outputs": [
        {
          "data": {
            "text/html": [
              "<div>\n",
              "<style scoped>\n",
              "    .dataframe tbody tr th:only-of-type {\n",
              "        vertical-align: middle;\n",
              "    }\n",
              "\n",
              "    .dataframe tbody tr th {\n",
              "        vertical-align: top;\n",
              "    }\n",
              "\n",
              "    .dataframe thead th {\n",
              "        text-align: right;\n",
              "    }\n",
              "</style>\n",
              "<table border=\"1\" class=\"dataframe\">\n",
              "  <thead>\n",
              "    <tr style=\"text-align: right;\">\n",
              "      <th></th>\n",
              "      <th>year</th>\n",
              "      <th>state</th>\n",
              "      <th>fec_id</th>\n",
              "      <th>first_name</th>\n",
              "      <th>last_name</th>\n",
              "      <th>party</th>\n",
              "      <th>age</th>\n",
              "      <th>gpt_age</th>\n",
              "      <th>age_difference</th>\n",
              "    </tr>\n",
              "  </thead>\n",
              "  <tbody>\n",
              "    <tr>\n",
              "      <th>0</th>\n",
              "      <td>2018</td>\n",
              "      <td>CT</td>\n",
              "      <td>S2CT00132</td>\n",
              "      <td>Christopher S.</td>\n",
              "      <td>Murphy</td>\n",
              "      <td>D</td>\n",
              "      <td>44</td>\n",
              "      <td>59</td>\n",
              "      <td>15</td>\n",
              "    </tr>\n",
              "    <tr>\n",
              "      <th>1</th>\n",
              "      <td>2016</td>\n",
              "      <td>CT</td>\n",
              "      <td>S0CT00177</td>\n",
              "      <td>Richard</td>\n",
              "      <td>Blumenthal</td>\n",
              "      <td>D</td>\n",
              "      <td>70</td>\n",
              "      <td>80</td>\n",
              "      <td>10</td>\n",
              "    </tr>\n",
              "    <tr>\n",
              "      <th>2</th>\n",
              "      <td>2020</td>\n",
              "      <td>ID</td>\n",
              "      <td>S6ID00104</td>\n",
              "      <td>Ray J.</td>\n",
              "      <td>Writz</td>\n",
              "      <td>O</td>\n",
              "      <td>68</td>\n",
              "      <td>69</td>\n",
              "      <td>1</td>\n",
              "    </tr>\n",
              "    <tr>\n",
              "      <th>3</th>\n",
              "      <td>2016</td>\n",
              "      <td>ID</td>\n",
              "      <td>S6ID00104</td>\n",
              "      <td>Ray J.</td>\n",
              "      <td>Writz</td>\n",
              "      <td>O</td>\n",
              "      <td>64</td>\n",
              "      <td>30</td>\n",
              "      <td>34</td>\n",
              "    </tr>\n",
              "    <tr>\n",
              "      <th>5</th>\n",
              "      <td>2018</td>\n",
              "      <td>IN</td>\n",
              "      <td>S6IN00225</td>\n",
              "      <td>Lucy M.</td>\n",
              "      <td>Brenton</td>\n",
              "      <td>L</td>\n",
              "      <td>39</td>\n",
              "      <td>92</td>\n",
              "      <td>53</td>\n",
              "    </tr>\n",
              "    <tr>\n",
              "      <th>...</th>\n",
              "      <td>...</td>\n",
              "      <td>...</td>\n",
              "      <td>...</td>\n",
              "      <td>...</td>\n",
              "      <td>...</td>\n",
              "      <td>...</td>\n",
              "      <td>...</td>\n",
              "      <td>...</td>\n",
              "      <td>...</td>\n",
              "    </tr>\n",
              "    <tr>\n",
              "      <th>270</th>\n",
              "      <td>2020</td>\n",
              "      <td>WV</td>\n",
              "      <td>S4WV00159</td>\n",
              "      <td>Shelley Moore</td>\n",
              "      <td>Capito</td>\n",
              "      <td>R</td>\n",
              "      <td>66</td>\n",
              "      <td>85</td>\n",
              "      <td>19</td>\n",
              "    </tr>\n",
              "    <tr>\n",
              "      <th>271</th>\n",
              "      <td>2020</td>\n",
              "      <td>WY</td>\n",
              "      <td>S0WY00137</td>\n",
              "      <td>Cynthia M.</td>\n",
              "      <td>Lummis</td>\n",
              "      <td>R</td>\n",
              "      <td>65</td>\n",
              "      <td>84</td>\n",
              "      <td>19</td>\n",
              "    </tr>\n",
              "    <tr>\n",
              "      <th>272</th>\n",
              "      <td>2018</td>\n",
              "      <td>WY</td>\n",
              "      <td>S8WY00189</td>\n",
              "      <td>Gary</td>\n",
              "      <td>Trauner</td>\n",
              "      <td>D</td>\n",
              "      <td>59</td>\n",
              "      <td>34</td>\n",
              "      <td>25</td>\n",
              "    </tr>\n",
              "    <tr>\n",
              "      <th>273</th>\n",
              "      <td>2018</td>\n",
              "      <td>WY</td>\n",
              "      <td>S6WY00068</td>\n",
              "      <td>John</td>\n",
              "      <td>Barrasso</td>\n",
              "      <td>R</td>\n",
              "      <td>65</td>\n",
              "      <td>80</td>\n",
              "      <td>15</td>\n",
              "    </tr>\n",
              "    <tr>\n",
              "      <th>274</th>\n",
              "      <td>2020</td>\n",
              "      <td>WY</td>\n",
              "      <td>S0WY00152</td>\n",
              "      <td>Merav Ben</td>\n",
              "      <td>David</td>\n",
              "      <td>D</td>\n",
              "      <td>61</td>\n",
              "      <td>65</td>\n",
              "      <td>4</td>\n",
              "    </tr>\n",
              "  </tbody>\n",
              "</table>\n",
              "<p>261 rows × 9 columns</p>\n",
              "</div>"
            ],
            "text/plain": [
              "     year state     fec_id      first_name   last_name party  age  gpt_age  \\\n",
              "0    2018    CT  S2CT00132  Christopher S.      Murphy     D   44       59   \n",
              "1    2016    CT  S0CT00177         Richard  Blumenthal     D   70       80   \n",
              "2    2020    ID  S6ID00104         Ray J.        Writz     O   68       69   \n",
              "3    2016    ID  S6ID00104          Ray J.       Writz     O   64       30   \n",
              "5    2018    IN  S6IN00225         Lucy M.     Brenton     L   39       92   \n",
              "..    ...   ...        ...             ...         ...   ...  ...      ...   \n",
              "270  2020    WV  S4WV00159  Shelley Moore       Capito     R   66       85   \n",
              "271  2020    WY  S0WY00137      Cynthia M.      Lummis     R   65       84   \n",
              "272  2018    WY  S8WY00189           Gary      Trauner     D   59       34   \n",
              "273  2018    WY  S6WY00068           John     Barrasso     R   65       80   \n",
              "274  2020    WY  S0WY00152       Merav Ben       David     D   61       65   \n",
              "\n",
              "     age_difference  \n",
              "0                15  \n",
              "1                10  \n",
              "2                 1  \n",
              "3                34  \n",
              "5                53  \n",
              "..              ...  \n",
              "270              19  \n",
              "271              19  \n",
              "272              25  \n",
              "273              15  \n",
              "274               4  \n",
              "\n",
              "[261 rows x 9 columns]"
            ]
          },
          "execution_count": 66,
          "metadata": {},
          "output_type": "execute_result"
        }
      ],
      "source": [
        "senate_results"
      ]
    },
    {
      "cell_type": "code",
      "execution_count": 67,
      "metadata": {
        "colab": {
          "base_uri": "https://localhost:8080/",
          "height": 546
        },
        "id": "Prh6gQ3iyy1x",
        "outputId": "0f8ef027-6bf6-44fb-920f-6401dc944ce0"
      },
      "outputs": [
        {
          "data": {
            "text/plain": [
              "<Figure size 800x600 with 0 Axes>"
            ]
          },
          "metadata": {},
          "output_type": "display_data"
        },
        {
          "data": {
            "image/png": "[encoded data removed]",
            "text/plain": [
              "<Figure size 500x500 with 1 Axes>"
            ]
          },
          "metadata": {},
          "output_type": "display_data"
        }
      ],
      "source": [
        "# Plotting the distribution\n",
        "plt.figure(figsize=(8, 6))\n",
        "sns.displot(data=senate_results, x=senate_results['age_difference'], kind='kde', fill=True)\n",
        "plt.title(f'Distribution of age_difference')\n",
        "plt.show()"
      ]
    },
    {
      "cell_type": "code",
      "execution_count": null,
      "metadata": {},
      "outputs": [],
      "source": []
    },
    {
      "cell_type": "code",
      "execution_count": null,
      "metadata": {},
      "outputs": [],
      "source": []
    },
    {
      "cell_type": "code",
      "execution_count": null,
      "metadata": {},
      "outputs": [],
      "source": []
    },
    {
      "cell_type": "code",
      "execution_count": null,
      "metadata": {},
      "outputs": [],
      "source": []
    },
    {
      "cell_type": "code",
      "execution_count": null,
      "metadata": {},
      "outputs": [],
      "source": []
    },
    {
      "cell_type": "code",
      "execution_count": null,
      "metadata": {},
      "outputs": [],
      "source": []
    },
    {
      "cell_type": "code",
      "execution_count": null,
      "metadata": {},
      "outputs": [],
      "source": []
    },
    {
      "cell_type": "code",
      "execution_count": 19,
      "metadata": {
        "colab": {
          "base_uri": "https://localhost:8080/"
        },
        "id": "S6kUYFdIWKLT",
        "outputId": "c84a0450-4763-4e40-cbcf-aeae1329e967"
      },
      "outputs": [
        {
          "ename": "KeyError",
          "evalue": "\"['votes', 'vote_share', 'incumbent'] not in index\"",
          "output_type": "error",
          "traceback": [
            "\u001b[1;31m---------------------------------------------------------------------------\u001b[0m",
            "\u001b[1;31mKeyError\u001b[0m                                  Traceback (most recent call last)",
            "Cell \u001b[1;32mIn[19], line 10\u001b[0m\n\u001b[0;32m      6\u001b[0m zero \u001b[38;5;241m=\u001b[39m senate_results[\u001b[38;5;124m'\u001b[39m\u001b[38;5;124mbinary_column\u001b[39m\u001b[38;5;124m'\u001b[39m]\u001b[38;5;241m.\u001b[39mvalue_counts()[\u001b[38;5;241m1\u001b[39m]\n\u001b[0;32m      8\u001b[0m two \u001b[38;5;241m=\u001b[39m one\u001b[38;5;241m/\u001b[39mzero\n\u001b[1;32m---> 10\u001b[0m all_merged_c \u001b[38;5;241m=\u001b[39m \u001b[43msenate_results\u001b[49m\u001b[43m[\u001b[49m\u001b[43m[\u001b[49m\u001b[38;5;124;43m'\u001b[39;49m\u001b[38;5;124;43mvotes\u001b[39;49m\u001b[38;5;124;43m'\u001b[39;49m\u001b[43m,\u001b[49m\u001b[43m \u001b[49m\u001b[38;5;124;43m'\u001b[39;49m\u001b[38;5;124;43mvote_share\u001b[39;49m\u001b[38;5;124;43m'\u001b[39;49m\u001b[43m,\u001b[49m\u001b[43m \u001b[49m\u001b[38;5;124;43m'\u001b[39;49m\u001b[38;5;124;43mincumbent\u001b[39;49m\u001b[38;5;124;43m'\u001b[39;49m\u001b[43m,\u001b[49m\u001b[43m \u001b[49m\u001b[38;5;124;43m'\u001b[39;49m\u001b[38;5;124;43mbinary_column\u001b[39;49m\u001b[38;5;124;43m'\u001b[39;49m\u001b[43m]\u001b[49m\u001b[43m]\u001b[49m\n\u001b[0;32m     12\u001b[0m X \u001b[38;5;241m=\u001b[39m all_merged_c[[\u001b[38;5;124m'\u001b[39m\u001b[38;5;124mvotes\u001b[39m\u001b[38;5;124m'\u001b[39m, \u001b[38;5;124m'\u001b[39m\u001b[38;5;124mvote_share\u001b[39m\u001b[38;5;124m'\u001b[39m, \u001b[38;5;124m'\u001b[39m\u001b[38;5;124mincumbent\u001b[39m\u001b[38;5;124m'\u001b[39m]]\n\u001b[0;32m     13\u001b[0m y \u001b[38;5;241m=\u001b[39m all_merged_c[\u001b[38;5;124m'\u001b[39m\u001b[38;5;124mbinary_column\u001b[39m\u001b[38;5;124m'\u001b[39m]\n",
            "File \u001b[1;32mc:\\Users\\joel\\AppData\\Local\\Programs\\Python\\Python312\\Lib\\site-packages\\pandas\\core\\frame.py:4108\u001b[0m, in \u001b[0;36mDataFrame.__getitem__\u001b[1;34m(self, key)\u001b[0m\n\u001b[0;32m   4106\u001b[0m     \u001b[38;5;28;01mif\u001b[39;00m is_iterator(key):\n\u001b[0;32m   4107\u001b[0m         key \u001b[38;5;241m=\u001b[39m \u001b[38;5;28mlist\u001b[39m(key)\n\u001b[1;32m-> 4108\u001b[0m     indexer \u001b[38;5;241m=\u001b[39m \u001b[38;5;28;43mself\u001b[39;49m\u001b[38;5;241;43m.\u001b[39;49m\u001b[43mcolumns\u001b[49m\u001b[38;5;241;43m.\u001b[39;49m\u001b[43m_get_indexer_strict\u001b[49m\u001b[43m(\u001b[49m\u001b[43mkey\u001b[49m\u001b[43m,\u001b[49m\u001b[43m \u001b[49m\u001b[38;5;124;43m\"\u001b[39;49m\u001b[38;5;124;43mcolumns\u001b[39;49m\u001b[38;5;124;43m\"\u001b[39;49m\u001b[43m)\u001b[49m[\u001b[38;5;241m1\u001b[39m]\n\u001b[0;32m   4110\u001b[0m \u001b[38;5;66;03m# take() does not accept boolean indexers\u001b[39;00m\n\u001b[0;32m   4111\u001b[0m \u001b[38;5;28;01mif\u001b[39;00m \u001b[38;5;28mgetattr\u001b[39m(indexer, \u001b[38;5;124m\"\u001b[39m\u001b[38;5;124mdtype\u001b[39m\u001b[38;5;124m\"\u001b[39m, \u001b[38;5;28;01mNone\u001b[39;00m) \u001b[38;5;241m==\u001b[39m \u001b[38;5;28mbool\u001b[39m:\n",
            "File \u001b[1;32mc:\\Users\\joel\\AppData\\Local\\Programs\\Python\\Python312\\Lib\\site-packages\\pandas\\core\\indexes\\base.py:6200\u001b[0m, in \u001b[0;36mIndex._get_indexer_strict\u001b[1;34m(self, key, axis_name)\u001b[0m\n\u001b[0;32m   6197\u001b[0m \u001b[38;5;28;01melse\u001b[39;00m:\n\u001b[0;32m   6198\u001b[0m     keyarr, indexer, new_indexer \u001b[38;5;241m=\u001b[39m \u001b[38;5;28mself\u001b[39m\u001b[38;5;241m.\u001b[39m_reindex_non_unique(keyarr)\n\u001b[1;32m-> 6200\u001b[0m \u001b[38;5;28;43mself\u001b[39;49m\u001b[38;5;241;43m.\u001b[39;49m\u001b[43m_raise_if_missing\u001b[49m\u001b[43m(\u001b[49m\u001b[43mkeyarr\u001b[49m\u001b[43m,\u001b[49m\u001b[43m \u001b[49m\u001b[43mindexer\u001b[49m\u001b[43m,\u001b[49m\u001b[43m \u001b[49m\u001b[43maxis_name\u001b[49m\u001b[43m)\u001b[49m\n\u001b[0;32m   6202\u001b[0m keyarr \u001b[38;5;241m=\u001b[39m \u001b[38;5;28mself\u001b[39m\u001b[38;5;241m.\u001b[39mtake(indexer)\n\u001b[0;32m   6203\u001b[0m \u001b[38;5;28;01mif\u001b[39;00m \u001b[38;5;28misinstance\u001b[39m(key, Index):\n\u001b[0;32m   6204\u001b[0m     \u001b[38;5;66;03m# GH 42790 - Preserve name from an Index\u001b[39;00m\n",
            "File \u001b[1;32mc:\\Users\\joel\\AppData\\Local\\Programs\\Python\\Python312\\Lib\\site-packages\\pandas\\core\\indexes\\base.py:6252\u001b[0m, in \u001b[0;36mIndex._raise_if_missing\u001b[1;34m(self, key, indexer, axis_name)\u001b[0m\n\u001b[0;32m   6249\u001b[0m     \u001b[38;5;28;01mraise\u001b[39;00m \u001b[38;5;167;01mKeyError\u001b[39;00m(\u001b[38;5;124mf\u001b[39m\u001b[38;5;124m\"\u001b[39m\u001b[38;5;124mNone of [\u001b[39m\u001b[38;5;132;01m{\u001b[39;00mkey\u001b[38;5;132;01m}\u001b[39;00m\u001b[38;5;124m] are in the [\u001b[39m\u001b[38;5;132;01m{\u001b[39;00maxis_name\u001b[38;5;132;01m}\u001b[39;00m\u001b[38;5;124m]\u001b[39m\u001b[38;5;124m\"\u001b[39m)\n\u001b[0;32m   6251\u001b[0m not_found \u001b[38;5;241m=\u001b[39m \u001b[38;5;28mlist\u001b[39m(ensure_index(key)[missing_mask\u001b[38;5;241m.\u001b[39mnonzero()[\u001b[38;5;241m0\u001b[39m]]\u001b[38;5;241m.\u001b[39munique())\n\u001b[1;32m-> 6252\u001b[0m \u001b[38;5;28;01mraise\u001b[39;00m \u001b[38;5;167;01mKeyError\u001b[39;00m(\u001b[38;5;124mf\u001b[39m\u001b[38;5;124m\"\u001b[39m\u001b[38;5;132;01m{\u001b[39;00mnot_found\u001b[38;5;132;01m}\u001b[39;00m\u001b[38;5;124m not in index\u001b[39m\u001b[38;5;124m\"\u001b[39m)\n",
            "\u001b[1;31mKeyError\u001b[0m: \"['votes', 'vote_share', 'incumbent'] not in index\""
          ]
        }
      ],
      "source": [
        "cuts = [5, 7, 9, 11, 13]\n",
        "for cut in cuts:\n",
        "  senate_results['binary_column'] = (senate_results['age_difference'] > cut).astype(int)\n",
        "\n",
        "  one = senate_results['binary_column'].value_counts()[0]\n",
        "  zero = senate_results['binary_column'].value_counts()[1]\n",
        "\n",
        "  two = one/zero\n",
        "\n",
        "  all_merged_c = senate_results[['votes', 'vote_share', 'incumbent', 'binary_column']]\n",
        "\n",
        "  X = all_merged_c[['votes', 'vote_share', 'incumbent']]\n",
        "  y = all_merged_c['binary_column']\n",
        "\n",
        "  # Split data into train and test sets\n",
        "  X_train, X_test, y_train, y_test = train_test_split(X, y, test_size=0.2, random_state=42)\n",
        "\n",
        "  # Create and fit the logistic regression model\n",
        "  model = LogisticRegression()\n",
        "  model.fit(X_train, y_train)\n",
        "\n",
        "  # Predict the target variable\n",
        "  y_pred = model.predict(X_test)\n",
        "\n",
        "  # Calculate accuracy\n",
        "  accuracy = accuracy_score(y_test, y_pred)\n",
        "  print(\"Accuracy:\", accuracy, \"ratio\", two, \"cutoff\", cut)"
      ]
    }
  ],
  "metadata": {
    "colab": {
      "provenance": []
    },
    "kernelspec": {
      "display_name": "Python 3",
      "name": "python3"
    },
    "language_info": {
      "codemirror_mode": {
        "name": "ipython",
        "version": 3
      },
      "file_extension": ".py",
      "mimetype": "text/x-python",
      "name": "python",
      "nbconvert_exporter": "python",
      "pygments_lexer": "ipython3",
      "version": "3.12.4"
    }
  },
  "nbformat": 4,
  "nbformat_minor": 0
}
