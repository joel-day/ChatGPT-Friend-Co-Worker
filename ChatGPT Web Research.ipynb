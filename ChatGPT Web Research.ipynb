{
  "cells": [
    {
      "cell_type": "markdown",
      "metadata": {
        "id": "PH1cy-zfUMTz"
      },
      "source": [
        "### I stumbled into this project by accident while collecting data for an election forecasting model. I needed the ages of past U.S Senators the year they ran for election, but after failing to find a suitable database, I was resigned to a grueling day of googling names and manual imputation. Only months later did i come up with the idea to use the ChatGPT API to collect this data for me.\n",
        "\n",
        "### Using the ages I collected manually as the benchmark, ChatGPT’s ability to complete the same age-gathering mission is put to the test. This is a cool opportunity to gauge the progress of LLMs and see how ChatGPT compares to a human assistant. Here’s how it did."
      ]
    },
    {
      "cell_type": "code",
      "execution_count": 1,
      "metadata": {
        "colab": {
          "base_uri": "https://localhost:8080/"
        },
        "id": "NAA7CZJVXTHL",
        "outputId": "77b62f71-5093-4db0-c06b-1c787d6d72a8"
      },
      "outputs": [],
      "source": [
        "import pandas as pd\n",
        "import openai\n",
        "from openai import OpenAI\n",
        "import re\n",
        "from datetime import datetime\n",
        "from sklearn.model_selection import train_test_split\n",
        "from sklearn.linear_model import LogisticRegression\n",
        "from sklearn.metrics import accuracy_score\n",
        "import warnings\n",
        "import seaborn as sns\n",
        "import matplotlib.pyplot as plt\n",
        "import os\n",
        "\n",
        "# Suppress all warnings\n",
        "warnings.filterwarnings(\"ignore\")\n",
        "\n",
        "import plotly.express as px"
      ]
    },
    {
      "cell_type": "markdown",
      "metadata": {
        "id": "12yblfhSXLhc"
      },
      "source": [
        "# Import senate data"
      ]
    },
    {
      "cell_type": "code",
      "execution_count": 3,
      "metadata": {
        "colab": {
          "base_uri": "https://localhost:8080/",
          "height": 363
        },
        "id": "eiPNRatbXLnc",
        "outputId": "a61e82f1-efda-4d21-fd2e-61ffb233ab23"
      },
      "outputs": [],
      "source": [
        "senate_results = pd.read_excel('senate_ChatGPT.xlsx')\n",
        "senate_results['gpt_age'] = None"
      ]
    },
    {
      "cell_type": "code",
      "execution_count": 4,
      "metadata": {
        "id": "yjQSgyfoU6zH"
      },
      "outputs": [],
      "source": [
        "gpt_api_key = os.getenv('GPT_API_KEY')\n",
        "client = OpenAI(\n",
        "    api_key = gpt_api_key,\n",
        ")"
      ]
    },
    {
      "cell_type": "code",
      "execution_count": 5,
      "metadata": {
        "id": "ynUNtPEPWKDr"
      },
      "outputs": [],
      "source": [
        "for index, row in senate_results.iterrows():\n",
        "    # Extract contents from columns\n",
        "    year = row['year']\n",
        "    state = row['state']\n",
        "    first_name = row['first_name']\n",
        "    last_name = row['last_name']\n",
        "    party = row['party']\n",
        "\n",
        "    prompt = (f'Provide only the age of {first_name} {last_name}. They were a candidate in the {year} {state} federal senate election')\n",
        "\n",
        "    response = client.chat.completions.create(\n",
        "        model=\"gpt-3.5-turbo\",\n",
        "        messages=[\n",
        "          {\"role\": \"system\", \"content\": \"You are a numbers minded assistant\"},\n",
        "          {\"role\": \"user\", \"content\": prompt},\n",
        "        ]\n",
        "      )\n",
        "\n",
        "    # here is the raw gpt response, it is very inconsistant so i need to extract only the age\n",
        "    age = response.choices[0].message.content\n",
        "\n",
        "\n",
        "    # which is done by finding the first occurrence of two consecutive digits\n",
        "    match = re.search(r'\\d\\d', age)\n",
        "    if match:\n",
        "        result = match.group()\n",
        "        result = int(result)\n",
        "    else:\n",
        "        result = 0\n",
        "\n",
        "\n",
        "    correction = 2021 - row['year']\n",
        "    result = result - correction\n",
        "\n",
        "    senate_results.at[index, 'gpt_age'] = result"
      ]
    },
    {
      "cell_type": "markdown",
      "metadata": {
        "id": "mwSk3FoPuTvJ"
      },
      "source": [
        "## I made the code work but the responses were untrustworthy. I got a lot of unsure responses and confident false positives.\n",
        "## I attempted to make ChatGPT my coworker, but for now ill keep it in the friend zone. "
      ]
    },
    {
      "cell_type": "markdown",
      "metadata": {
        "id": "gBRaDrr_WUKL"
      },
      "source": [
        "## Below i adjust the age column so that it relects the candidate's age on election year."
      ]
    },
    {
      "cell_type": "code",
      "execution_count": 6,
      "metadata": {
        "id": "oE9N5LmgWKGT"
      },
      "outputs": [],
      "source": [
        "# change gpt response type to an integer\n",
        "senate_results['gpt_age'] = senate_results['gpt_age'].fillna(0).astype(int)\n",
        "\n",
        "# because GPT gave the current age, i found the current year, then subtracted how many years ago the election was from the provided age.\n",
        "# the knowledge cutoff for GPT-3.5 is 9/2021\n",
        "senate_results['year_difference'] = 2001 - senate_results['year']\n",
        "senate_results['gpt_age'] = senate_results['gpt_age'] - senate_results['year_difference']\n",
        "\n",
        "# drop the 'year_difference' column\n",
        "senate_results.drop(columns=['year_difference'], inplace=True)"
      ]
    },
    {
      "cell_type": "markdown",
      "metadata": {
        "id": "F1buuWE9rcJA"
      },
      "source": [
        "# Now lets investigate how accurate chat GPT is"
      ]
    },
    {
      "cell_type": "code",
      "execution_count": 7,
      "metadata": {
        "id": "gGpP2J0uyywp"
      },
      "outputs": [],
      "source": [
        "senate_results = senate_results[senate_results['gpt_age'] > 19]\n",
        "senate_results['age_difference'] = (senate_results['gpt_age'] - senate_results['age']).abs()"
      ]
    },
    {
      "cell_type": "code",
      "execution_count": 8,
      "metadata": {
        "colab": {
          "base_uri": "https://localhost:8080/",
          "height": 424
        },
        "id": "nQ3J-ptovN5X",
        "outputId": "0f8cd22d-ad54-41dd-a3a3-a73522e67950"
      },
      "outputs": [
        {
          "data": {
            "text/html": [
              "<div>\n",
              "<style scoped>\n",
              "    .dataframe tbody tr th:only-of-type {\n",
              "        vertical-align: middle;\n",
              "    }\n",
              "\n",
              "    .dataframe tbody tr th {\n",
              "        vertical-align: top;\n",
              "    }\n",
              "\n",
              "    .dataframe thead th {\n",
              "        text-align: right;\n",
              "    }\n",
              "</style>\n",
              "<table border=\"1\" class=\"dataframe\">\n",
              "  <thead>\n",
              "    <tr style=\"text-align: right;\">\n",
              "      <th></th>\n",
              "      <th>year</th>\n",
              "      <th>state</th>\n",
              "      <th>fec_id</th>\n",
              "      <th>first_name</th>\n",
              "      <th>last_name</th>\n",
              "      <th>party</th>\n",
              "      <th>age</th>\n",
              "      <th>gpt_age</th>\n",
              "      <th>age_difference</th>\n",
              "    </tr>\n",
              "  </thead>\n",
              "  <tbody>\n",
              "    <tr>\n",
              "      <th>0</th>\n",
              "      <td>2018</td>\n",
              "      <td>CT</td>\n",
              "      <td>S2CT00132</td>\n",
              "      <td>Christopher S.</td>\n",
              "      <td>Murphy</td>\n",
              "      <td>D</td>\n",
              "      <td>44</td>\n",
              "      <td>61</td>\n",
              "      <td>17</td>\n",
              "    </tr>\n",
              "    <tr>\n",
              "      <th>1</th>\n",
              "      <td>2016</td>\n",
              "      <td>CT</td>\n",
              "      <td>S0CT00177</td>\n",
              "      <td>Richard</td>\n",
              "      <td>Blumenthal</td>\n",
              "      <td>D</td>\n",
              "      <td>70</td>\n",
              "      <td>80</td>\n",
              "      <td>10</td>\n",
              "    </tr>\n",
              "    <tr>\n",
              "      <th>2</th>\n",
              "      <td>2020</td>\n",
              "      <td>ID</td>\n",
              "      <td>S6ID00104</td>\n",
              "      <td>Ray J.</td>\n",
              "      <td>Writz</td>\n",
              "      <td>O</td>\n",
              "      <td>68</td>\n",
              "      <td>38</td>\n",
              "      <td>30</td>\n",
              "    </tr>\n",
              "    <tr>\n",
              "      <th>3</th>\n",
              "      <td>2016</td>\n",
              "      <td>ID</td>\n",
              "      <td>S6ID00104</td>\n",
              "      <td>Ray J.</td>\n",
              "      <td>Writz</td>\n",
              "      <td>O</td>\n",
              "      <td>64</td>\n",
              "      <td>55</td>\n",
              "      <td>9</td>\n",
              "    </tr>\n",
              "    <tr>\n",
              "      <th>4</th>\n",
              "      <td>2016</td>\n",
              "      <td>IN</td>\n",
              "      <td>S6IN00225</td>\n",
              "      <td>Lucy</td>\n",
              "      <td>Brenton</td>\n",
              "      <td>L</td>\n",
              "      <td>37</td>\n",
              "      <td>30</td>\n",
              "      <td>7</td>\n",
              "    </tr>\n",
              "    <tr>\n",
              "      <th>...</th>\n",
              "      <td>...</td>\n",
              "      <td>...</td>\n",
              "      <td>...</td>\n",
              "      <td>...</td>\n",
              "      <td>...</td>\n",
              "      <td>...</td>\n",
              "      <td>...</td>\n",
              "      <td>...</td>\n",
              "      <td>...</td>\n",
              "    </tr>\n",
              "    <tr>\n",
              "      <th>270</th>\n",
              "      <td>2020</td>\n",
              "      <td>WV</td>\n",
              "      <td>S4WV00159</td>\n",
              "      <td>Shelley Moore</td>\n",
              "      <td>Capito</td>\n",
              "      <td>R</td>\n",
              "      <td>66</td>\n",
              "      <td>85</td>\n",
              "      <td>19</td>\n",
              "    </tr>\n",
              "    <tr>\n",
              "      <th>271</th>\n",
              "      <td>2020</td>\n",
              "      <td>WY</td>\n",
              "      <td>S0WY00137</td>\n",
              "      <td>Cynthia M.</td>\n",
              "      <td>Lummis</td>\n",
              "      <td>R</td>\n",
              "      <td>65</td>\n",
              "      <td>84</td>\n",
              "      <td>19</td>\n",
              "    </tr>\n",
              "    <tr>\n",
              "      <th>272</th>\n",
              "      <td>2018</td>\n",
              "      <td>WY</td>\n",
              "      <td>S8WY00189</td>\n",
              "      <td>Gary</td>\n",
              "      <td>Trauner</td>\n",
              "      <td>D</td>\n",
              "      <td>59</td>\n",
              "      <td>71</td>\n",
              "      <td>12</td>\n",
              "    </tr>\n",
              "    <tr>\n",
              "      <th>273</th>\n",
              "      <td>2018</td>\n",
              "      <td>WY</td>\n",
              "      <td>S6WY00068</td>\n",
              "      <td>John</td>\n",
              "      <td>Barrasso</td>\n",
              "      <td>R</td>\n",
              "      <td>65</td>\n",
              "      <td>80</td>\n",
              "      <td>15</td>\n",
              "    </tr>\n",
              "    <tr>\n",
              "      <th>274</th>\n",
              "      <td>2020</td>\n",
              "      <td>WY</td>\n",
              "      <td>S0WY00152</td>\n",
              "      <td>Merav Ben</td>\n",
              "      <td>David</td>\n",
              "      <td>D</td>\n",
              "      <td>61</td>\n",
              "      <td>67</td>\n",
              "      <td>6</td>\n",
              "    </tr>\n",
              "  </tbody>\n",
              "</table>\n",
              "<p>260 rows × 9 columns</p>\n",
              "</div>"
            ],
            "text/plain": [
              "     year state     fec_id      first_name   last_name party  age  gpt_age  \\\n",
              "0    2018    CT  S2CT00132  Christopher S.      Murphy     D   44       61   \n",
              "1    2016    CT  S0CT00177         Richard  Blumenthal     D   70       80   \n",
              "2    2020    ID  S6ID00104         Ray J.        Writz     O   68       38   \n",
              "3    2016    ID  S6ID00104          Ray J.       Writz     O   64       55   \n",
              "4    2016    IN  S6IN00225            Lucy     Brenton     L   37       30   \n",
              "..    ...   ...        ...             ...         ...   ...  ...      ...   \n",
              "270  2020    WV  S4WV00159  Shelley Moore       Capito     R   66       85   \n",
              "271  2020    WY  S0WY00137      Cynthia M.      Lummis     R   65       84   \n",
              "272  2018    WY  S8WY00189           Gary      Trauner     D   59       71   \n",
              "273  2018    WY  S6WY00068           John     Barrasso     R   65       80   \n",
              "274  2020    WY  S0WY00152       Merav Ben       David     D   61       67   \n",
              "\n",
              "     age_difference  \n",
              "0                17  \n",
              "1                10  \n",
              "2                30  \n",
              "3                 9  \n",
              "4                 7  \n",
              "..              ...  \n",
              "270              19  \n",
              "271              19  \n",
              "272              12  \n",
              "273              15  \n",
              "274               6  \n",
              "\n",
              "[260 rows x 9 columns]"
            ]
          },
          "execution_count": 8,
          "metadata": {},
          "output_type": "execute_result"
        }
      ],
      "source": [
        "senate_results"
      ]
    },
    {
      "cell_type": "code",
      "execution_count": 9,
      "metadata": {
        "colab": {
          "base_uri": "https://localhost:8080/",
          "height": 546
        },
        "id": "Prh6gQ3iyy1x",
        "outputId": "0f8ef027-6bf6-44fb-920f-6401dc944ce0"
      },
      "outputs": [
        {
          "data": {
            "text/plain": [
              "<Figure size 800x600 with 0 Axes>"
            ]
          },
          "metadata": {},
          "output_type": "display_data"
        },
        {
          "data": {
            "image/png": "[encoded data removed]",
            "text/plain": [
              "<Figure size 500x500 with 1 Axes>"
            ]
          },
          "metadata": {},
          "output_type": "display_data"
        }
      ],
      "source": [
        "# Plotting the distribution\n",
        "plt.figure(figsize=(8, 6))\n",
        "sns.displot(data=senate_results, x=senate_results['age_difference'], kind='kde', fill=True)\n",
        "plt.title(f'Distribution of age_difference')\n",
        "plt.show()"
      ]
    }
  ],
  "metadata": {
    "colab": {
      "provenance": []
    },
    "kernelspec": {
      "display_name": "Python 3",
      "name": "python3"
    },
    "language_info": {
      "codemirror_mode": {
        "name": "ipython",
        "version": 3
      },
      "file_extension": ".py",
      "mimetype": "text/x-python",
      "name": "python",
      "nbconvert_exporter": "python",
      "pygments_lexer": "ipython3",
      "version": "3.12.4"
    }
  },
  "nbformat": 4,
  "nbformat_minor": 0
}
